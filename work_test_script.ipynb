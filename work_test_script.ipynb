{
 "cells": [
  {
   "cell_type": "code",
   "execution_count": 85,
   "metadata": {},
   "outputs": [
    {
     "name": "stdout",
     "output_type": "stream",
     "text": [
      "\t Data Pre-Processing in Progress...\n",
      "\n",
      "Pre-processing completed csv of \"X_train, X_test, y_train and y_test\" saved in data_pkl directory\n"
     ]
    }
   ],
   "source": [
    "import os\n",
    "import sys\n",
    "import pandas as pd\n",
    "import numpy as np\n",
    "import joblib\n",
    "sys.path.append('.')\n",
    "\n",
    "def process_data():\n",
    "    print('\\t Data Pre-Processing in Progress...\\n')\n",
    "    ROOT_DIR = os.path.dirname(os.path.abspath('COMP_9417_23_Project')) # project Directory\n",
    "\n",
    "    # define dataset files\n",
    "    data_dir = os.path.join(ROOT_DIR, 'data')\n",
    "    processed_data_dir = os.path.join(ROOT_DIR, 'data_pkl')\n",
    "\n",
    "    train_file = os.path.join(data_dir, 'training.csv')\n",
    "    test_file = os.path.join(data_dir, 'sorted_test.csv')\n",
    "\n",
    "    # Read train & test datasets\n",
    "    train = pd.read_csv(train_file)\n",
    "    test = pd.read_csv(test_file)\n",
    "\n",
    "    labels = train[['Ca','P','pH','SOC','Sand']] # y/labels\n",
    "\n",
    "    # train.isnull().values.any() # checked if any cell contains null value\n",
    "    # train = np.array(train)[:,:3578] # convert train set to numpy array\n",
    "\n",
    "    # drop response values(labels), ID, and categorical variable from predictors\n",
    "    train.drop(['Ca', 'P', 'pH', 'SOC', 'Sand', 'PIDN','Depth'], axis=1, inplace=True)\n",
    "    test.drop(['PIDN', 'Depth'], axis=1, inplace=True)\n",
    "\n",
    "    # split train/test sets\n",
    "    X_train, X_test, y_train, y_test = train_test_split(train, labels, test_size=0.20, random_state=100) \n",
    "\n",
    "    # reset indexes\n",
    "    X_train = X_train.reset_index(drop=True) \n",
    "    X_test = X_test.reset_index(drop=True)\n",
    "    y_train = y_train.reset_index(drop=True)\n",
    "    y_test = y_test.reset_index(drop=True)\n",
    "\n",
    "    # save csv files\n",
    "    X_train.to_csv(os.path.join(processed_data_dir,'X_train.csv'))\n",
    "    X_test.to_csv(os.path.join(processed_data_dir,'X_test.csv'))\n",
    "    y_train.to_csv(os.path.join(processed_data_dir,'y_train.csv'))\n",
    "    y_test.to_csv(os.path.join(processed_data_dir,'y_test.csv'))\n",
    "\n",
    "    # joblib.dump(X_train, os.path.join(processed_data_dir, 'X_train.pkl')) #save to pickle\n",
    "\n",
    "    print('\\t Completed with csv of \"X_train, X_test, y_train and y_test\" saved in data_pkl directory')\n",
    "\n",
    "process_data()"
   ]
  },
  {
   "cell_type": "code",
   "execution_count": 52,
   "metadata": {},
   "outputs": [],
   "source": [
    "\n",
    "    @staticmethod\n",
    "    def pca(df: pd.DataFrame, explain_thres: float, mode: str):\n",
    "        \"\"\"\n",
    "        list of numeric features based on variance the component explaind\n",
    "        :param df: Dataframe of feature variables\n",
    "        :param explain_thres: variance explained threshold. \n",
    "        :param mode (criteria)-\n",
    "              \"total\" : overall varience explained. \n",
    "               \"ind\": variance of each component explains.\n",
    "        :return: PCA class object\n",
    "        \"\"\" \n",
    "        if mode == \"ind\":\n",
    "            # PCA - Get all components first\n",
    "            pca = PCA(random_state = 100)\n",
    "            pca.fit(df)\n",
    "\n",
    "            # Get number of components exceeding threshold\n",
    "            n_comp = sum(pca_test.explained_variance_ratio_ > explain_thres)\n",
    "            print(f'There are {n_comp} components with variance explained > {explain_thres}')\n",
    "        \n",
    "            # Run PCA with the number of components such that variance explained for each component exceeds threshold\n",
    "            pca_fin = PCA(n_components= n_comp, random_state = 100)\n",
    "            pca_fin.fit(df)\n",
    "        else:\n",
    "            pca_fin = PCA(n_components= explain_thres, svd_solver = 'full', random_state = 100)\n",
    "            pca_fin.fit(df)\n",
    "            n_comp = len(pca_fin.explained_variance_ratio_)\n",
    "            print(f'There are {n_comp} components with total variance explained > {explain_thres}')\n",
    "        \n",
    "            print(f'Total variance explained: {sum(pca_fin.explained_variance_ratio_):.4f}')\n",
    "\n",
    "        return pca_fin\n",
    "\n",
    "        @staticmethod\n",
    "        def vif(X : pd.DataFrame) -> pd.DataFrame:\n",
    "            pass\n"
   ]
  },
  {
   "cell_type": "code",
   "execution_count": 51,
   "metadata": {},
   "outputs": [
    {
     "name": "stdout",
     "output_type": "stream",
     "text": [
      "['c:\\\\Github\\\\COMP_9417_23_Project',\n",
      " 'C:\\\\Program '\n",
      " 'Files\\\\WindowsApps\\\\PythonSoftwareFoundation.Python.3.9_3.9.3568.0_x64__qbz5n2kfra8p0\\\\python39.zip',\n",
      " 'C:\\\\Program '\n",
      " 'Files\\\\WindowsApps\\\\PythonSoftwareFoundation.Python.3.9_3.9.3568.0_x64__qbz5n2kfra8p0\\\\DLLs',\n",
      " 'C:\\\\Program '\n",
      " 'Files\\\\WindowsApps\\\\PythonSoftwareFoundation.Python.3.9_3.9.3568.0_x64__qbz5n2kfra8p0\\\\lib',\n",
      " 'C:\\\\Users\\\\USER\\\\AppData\\\\Local\\\\Microsoft\\\\WindowsApps\\\\PythonSoftwareFoundation.Python.3.9_qbz5n2kfra8p0',\n",
      " '',\n",
      " 'C:\\\\Users\\\\USER\\\\AppData\\\\Local\\\\Packages\\\\PythonSoftwareFoundation.Python.3.9_qbz5n2kfra8p0\\\\LocalCache\\\\local-packages\\\\Python39\\\\site-packages',\n",
      " 'C:\\\\Users\\\\USER\\\\AppData\\\\Local\\\\Packages\\\\PythonSoftwareFoundation.Python.3.9_qbz5n2kfra8p0\\\\LocalCache\\\\local-packages\\\\Python39\\\\site-packages\\\\win32',\n",
      " 'C:\\\\Users\\\\USER\\\\AppData\\\\Local\\\\Packages\\\\PythonSoftwareFoundation.Python.3.9_qbz5n2kfra8p0\\\\LocalCache\\\\local-packages\\\\Python39\\\\site-packages\\\\win32\\\\lib',\n",
      " 'C:\\\\Users\\\\USER\\\\AppData\\\\Local\\\\Packages\\\\PythonSoftwareFoundation.Python.3.9_qbz5n2kfra8p0\\\\LocalCache\\\\local-packages\\\\Python39\\\\site-packages\\\\Pythonwin',\n",
      " 'C:\\\\Program '\n",
      " 'Files\\\\WindowsApps\\\\PythonSoftwareFoundation.Python.3.9_3.9.3568.0_x64__qbz5n2kfra8p0',\n",
      " 'C:\\\\Program '\n",
      " 'Files\\\\WindowsApps\\\\PythonSoftwareFoundation.Python.3.9_3.9.3568.0_x64__qbz5n2kfra8p0\\\\lib\\\\site-packages',\n",
      " '.']\n"
     ]
    }
   ],
   "source": [
    "import sys\n",
    "\n",
    "from pprint import pprint\n",
    "sys.path.append('.')\n",
    "f\n",
    "pprint(sys.path)"
   ]
  }
 ],
 "metadata": {
  "kernelspec": {
   "display_name": "comp9517",
   "language": "python",
   "name": "python3"
  },
  "language_info": {
   "codemirror_mode": {
    "name": "ipython",
    "version": 3
   },
   "file_extension": ".py",
   "mimetype": "text/x-python",
   "name": "python",
   "nbconvert_exporter": "python",
   "pygments_lexer": "ipython3",
   "version": "3.9.13"
  },
  "orig_nbformat": 4
 },
 "nbformat": 4,
 "nbformat_minor": 2
}
