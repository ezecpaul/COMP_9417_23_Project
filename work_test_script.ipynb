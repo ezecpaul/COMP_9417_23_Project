{
 "cells": [
  {
   "cell_type": "code",
   "execution_count": 4,
   "metadata": {},
   "outputs": [],
   "source": [
    "import os\n",
    "import sys\n",
    "import pandas as pd\n",
    "import numpy as np\n",
    "from sklearn.model_selection import train_test_split\n",
    "from sklearn.preprocessing import StandardScaler\n",
    "from sklearn.metrics import mean_squared_error\n",
    "import joblib\n",
    "sys.path.append('.')\n",
    "ROOT_DIR = os.path.dirname(os.path.abspath('COMP_9417_23_Project')) # project Directory\n",
    "data_dir = os.path.join(ROOT_DIR, 'data')\n",
    "processed_data_dir = os.path.join(ROOT_DIR, 'data_pkl')\n",
    "saved_model_dir = os.path.join(ROOT_DIR, 'model_pkl')"
   ]
  },
  {
   "cell_type": "code",
   "execution_count": 2,
   "metadata": {},
   "outputs": [
    {
     "name": "stdout",
     "output_type": "stream",
     "text": [
      "\n",
      "Six(6) Dataframes (X_train, X_test, X_train_scaled, X_test_scaled, y_train, y_test), returned.\n"
     ]
    }
   ],
   "source": [
    "import os\n",
    "import sys\n",
    "\n",
    "from utils import util\n",
    "X_train, X_test, X_train_scaled, X_test_scaled, y_train, y_test = util.process_data('training.csv')"
   ]
  },
  {
   "cell_type": "code",
   "execution_count": 5,
   "metadata": {},
   "outputs": [
    {
     "name": "stderr",
     "output_type": "stream",
     "text": [
      "C:\\Users\\USER\\AppData\\Local\\Packages\\PythonSoftwareFoundation.Python.3.9_qbz5n2kfra8p0\\LocalCache\\local-packages\\Python39\\site-packages\\statsmodels\\regression\\linear_model.py:1752: RuntimeWarning: divide by zero encountered in double_scalars\n",
      "  return 1 - self.ssr/self.centered_tss\n",
      "C:\\Users\\USER\\AppData\\Local\\Packages\\PythonSoftwareFoundation.Python.3.9_qbz5n2kfra8p0\\LocalCache\\local-packages\\Python39\\site-packages\\statsmodels\\stats\\outliers_influence.py:195: RuntimeWarning: divide by zero encountered in double_scalars\n",
      "  vif = 1. / (1. - r_squared_i)\n"
     ]
    }
   ],
   "source": [
    "from statsmodels.stats.outliers_influence import variance_inflation_factor\n",
    "from statsmodels.tools.tools import add_constant\n",
    "\n",
    "X = add_constant(X_train.iloc[:,:3578])\n",
    "pd.Series([variance_inflation_factor(X.values, i) for i in range(X.shape[1])], index=X.columns)"
   ]
  },
  {
   "cell_type": "code",
   "execution_count": 52,
   "metadata": {},
   "outputs": [],
   "source": [
    "def pca(df: pd.DataFrame, explain_thres: float, mode: str):\n",
    "    \"\"\"\n",
    "    list of numeric features based on variance the component explaind\n",
    "    :param df: Dataframe of feature variables\n",
    "    :param explain_thres: variance explained threshold. \n",
    "    :param mode (criteria)-\n",
    "            \"total\" : overall varience explained. \n",
    "            \"ind\": variance of each component explains.\n",
    "    :return: PCA class object\n",
    "    \"\"\" \n",
    "    if mode == \"ind\":\n",
    "        # PCA - Get all components first\n",
    "        pca = PCA(random_state = 100)\n",
    "        pca.fit(df)\n",
    "\n",
    "        # Get number of components exceeding threshold\n",
    "        n_comp = sum(pca_test.explained_variance_ratio_ > explain_thres)\n",
    "        print(f'There are {n_comp} components with variance explained > {explain_thres}')\n",
    "    \n",
    "        # Run PCA with the number of components such that variance explained for each component exceeds threshold\n",
    "        pca_fin = PCA(n_components= n_comp, random_state = 100)\n",
    "        pca_fin.fit(df)\n",
    "    else:\n",
    "        pca_fin = PCA(n_components= explain_thres, svd_solver = 'full', random_state = 100)\n",
    "        pca_fin.fit(df)\n",
    "        n_comp = len(pca_fin.explained_variance_ratio_)\n",
    "        print(f'There are {n_comp} components with total variance explained > {explain_thres}')\n",
    "    \n",
    "        print(f'Total variance explained: {sum(pca_fin.explained_variance_ratio_):.4f}')\n",
    "\n",
    "    return pca_fin\n",
    "\n",
    "def vif(X : pd.DataFrame) -> pd.DataFrame:\n",
    "    pass\n"
   ]
  }
 ],
 "metadata": {
  "kernelspec": {
   "display_name": "comp9517",
   "language": "python",
   "name": "python3"
  },
  "language_info": {
   "codemirror_mode": {
    "name": "ipython",
    "version": 3
   },
   "file_extension": ".py",
   "mimetype": "text/x-python",
   "name": "python",
   "nbconvert_exporter": "python",
   "pygments_lexer": "ipython3",
   "version": "3.9.13"
  },
  "orig_nbformat": 4
 },
 "nbformat": 4,
 "nbformat_minor": 2
}
