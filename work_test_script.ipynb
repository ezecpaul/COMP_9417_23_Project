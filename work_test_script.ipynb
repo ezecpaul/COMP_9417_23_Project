{
 "cells": [
  {
   "cell_type": "code",
   "execution_count": 4,
   "metadata": {},
   "outputs": [],
   "source": [
    "import os\n",
    "import sys\n",
    "import pandas as pd\n",
    "import numpy as np\n",
    "from sklearn.model_selection import train_test_split\n",
    "from sklearn.preprocessing import StandardScaler\n",
    "from sklearn.metrics import mean_squared_error\n",
    "import joblib\n",
    "sys.path.append('.')\n",
    "ROOT_DIR = os.path.dirname(os.path.abspath('COMP_9417_23_Project')) # project Directory\n",
    "data_dir = os.path.join(ROOT_DIR, 'data')\n",
    "processed_data_dir = os.path.join(ROOT_DIR, 'data_pkl')\n",
    "saved_model_dir = os.path.join(ROOT_DIR, 'model_pkl')"
   ]
  },
  {
   "cell_type": "code",
   "execution_count": 5,
   "metadata": {},
   "outputs": [
    {
     "name": "stdout",
     "output_type": "stream",
     "text": [
      "\n",
      "Six(6) Dataframes (X_train, X_test, X_train_scaled, X_test_scaled, y_train, y_test), returned.\n"
     ]
    }
   ],
   "source": [
    "import os\n",
    "import sys\n",
    "\n",
    "from utils import util\n",
    "X_train, X_test, X_train_scaled, X_test_scaled, y_train, y_test = util.process_data('training.csv')"
   ]
  },
  {
   "cell_type": "code",
   "execution_count": 8,
   "metadata": {},
   "outputs": [
    {
     "data": {
      "text/plain": [
       "const       6.369079e+02\n",
       "m7497.96    3.616972e+06\n",
       "m7496.04    3.148606e+07\n",
       "m7494.11    1.127993e+08\n",
       "m7492.18    2.841741e+08\n",
       "                ...     \n",
       "m6543.36    9.468624e+09\n",
       "m6541.43    4.963993e+09\n",
       "m6539.51    1.988767e+09\n",
       "m6537.58    5.165750e+08\n",
       "m6535.65    5.378444e+07\n",
       "Length: 501, dtype: float64"
      ]
     },
     "execution_count": 8,
     "metadata": {},
     "output_type": "execute_result"
    },
    {
     "ename": "",
     "evalue": "",
     "output_type": "error",
     "traceback": [
      "\u001b[1;31mThe Kernel crashed while executing code in the the current cell or a previous cell. Please review the code in the cell(s) to identify a possible cause of the failure. Click <a href='https://aka.ms/vscodeJupyterKernelCrash'>here</a> for more info. View Jupyter <a href='command:jupyter.viewOutput'>log</a> for further details."
     ]
    }
   ],
   "source": [
    "from statsmodels.stats.outliers_influence import variance_inflation_factor\n",
    "from statsmodels.tools.tools import add_constant\n",
    "\n",
    "X = add_constant(X_train.iloc[:,:500])\n",
    "pd.Series([variance_inflation_factor(X.values, i) for i in range(X.shape[1])], index=X.columns)"
   ]
  },
  {
   "cell_type": "code",
   "execution_count": 7,
   "metadata": {},
   "outputs": [],
   "source": [
    "def pca(df: pd.DataFrame, explain_thres: float, mode: str):\n",
    "    \"\"\"\n",
    "    list of numeric features based on variance the component explaind\n",
    "    :param df: Dataframe of feature variables\n",
    "    :param explain_thres: variance explained threshold. \n",
    "    :param mode (criteria)-\n",
    "            \"total\" : overall varience explained. \n",
    "            \"ind\": variance of each component explains.\n",
    "    :return: PCA class object\n",
    "    \"\"\" \n",
    "    if mode == \"ind\":\n",
    "        # PCA - Get all components first\n",
    "        pca = PCA(random_state = 100)\n",
    "        pca.fit(df)\n",
    "\n",
    "        # Get number of components exceeding threshold\n",
    "        n_comp = sum(pca_test.explained_variance_ratio_ > explain_thres)\n",
    "        print(f'There are {n_comp} components with variance explained > {explain_thres}')\n",
    "    \n",
    "        # Run PCA with the number of components such that variance explained for each component exceeds threshold\n",
    "        pca_fin = PCA(n_components= n_comp, random_state = 100)\n",
    "        pca_fin.fit(df)\n",
    "    else:\n",
    "        pca_fin = PCA(n_components= explain_thres, svd_solver = 'full', random_state = 100)\n",
    "        pca_fin.fit(df)\n",
    "        n_comp = len(pca_fin.explained_variance_ratio_)\n",
    "        print(f'There are {n_comp} components with total variance explained > {explain_thres}')\n",
    "    \n",
    "        print(f'Total variance explained: {sum(pca_fin.explained_variance_ratio_):.4f}')\n",
    "\n",
    "    return pca_fin\n",
    "\n",
    "def vif(X : pd.DataFrame) -> pd.DataFrame:\n",
    "    pass\n"
   ]
  }
 ],
 "metadata": {
  "kernelspec": {
   "display_name": "comp9517",
   "language": "python",
   "name": "python3"
  },
  "language_info": {
   "codemirror_mode": {
    "name": "ipython",
    "version": 3
   },
   "file_extension": ".py",
   "mimetype": "text/x-python",
   "name": "python",
   "nbconvert_exporter": "python",
   "pygments_lexer": "ipython3",
   "version": "3.9.13"
  },
  "orig_nbformat": 4
 },
 "nbformat": 4,
 "nbformat_minor": 2
}
