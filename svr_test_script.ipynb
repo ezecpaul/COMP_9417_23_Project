{
 "cells": [
  {
   "cell_type": "code",
   "execution_count": 1,
   "metadata": {},
   "outputs": [],
   "source": [
    "import os\n",
    "import sys\n",
    "import pandas as pd\n",
    "import numpy as np\n",
    "import matplotlib.pyplot as plt\n",
    "import seaborn as sns\n",
    "from sklearn.decomposition import PCA\n",
    "from sklearn.model_selection import train_test_split\n",
    "from sklearn.preprocessing import StandardScaler\n",
    "from sklearn.metrics import mean_squared_error\n",
    "import joblib\n",
    "sys.path.append('.') # point to the root directory\n",
    "ROOT_DIR = os.path.dirname(os.path.abspath('COMP_9417_23_Project')) # project Directory\n",
    "data_dir = os.path.join(ROOT_DIR, 'data')\n",
    "svr_dir = os.path.join(ROOT_DIR, 'svr_searchCV_pkl')"
   ]
  },
  {
   "attachments": {},
   "cell_type": "markdown",
   "metadata": {},
   "source": [
    "### A: Pre-process Data & Feature Engineering - EDA, Cleaning, Argumentation, Feature reduction and Selection\n",
    "#### 1. Data Cleaning and Normarlization\n",
    "Obtained data is clean and scaled, however, given that the ratio of features space to sample size is about 3:1,  argumentation may be applied increase sample size."
   ]
  },
  {
   "cell_type": "code",
   "execution_count": 2,
   "metadata": {},
   "outputs": [
    {
     "name": "stdout",
     "output_type": "stream",
     "text": [
      "\n",
      "Cleaning data with outliers dropped\n",
      "Done!\n",
      "\n",
      "Data preparation in progress...\n",
      "Completed!\n"
     ]
    }
   ],
   "source": [
    "# read csv dataset\n",
    "file = os.path.join(data_dir, 'training.csv')\n",
    "data_file =  pd.read_csv(file)\n",
    "\n",
    "#import utility/helper function class\n",
    "from utils import util\n",
    "# clean data and drop or replace outliers- set drop_outlers to True to drop or False (default) to replace them\n",
    "data = util.clean_outliers(data_file, drop_outliers = True )\n",
    "\n",
    "# set test_split_ratio =0.0 ( X_test and y_test becomes None) when preparing for Final Submission Otherwise set to (0.1 or 0.2): default-0.2\n",
    "X_train, X_test, y_train, y_test = util.prepare_data(data, test_split_ratio=0.2)"
   ]
  },
  {
   "attachments": {},
   "cell_type": "markdown",
   "metadata": {},
   "source": [
    "#### 2. Feature Reduction/Selection\n",
    "\n",
    "##### 2.1. PCA"
   ]
  },
  {
   "cell_type": "code",
   "execution_count": 3,
   "metadata": {},
   "outputs": [],
   "source": [
    "# >>> PCA <<<\n",
    "# import Feature Transformation class FS from file feature_select.py\n",
    "from feature_select import FS\n",
    "pca, top_features = FS.pca(X_train, explain_threshold=0.99)"
   ]
  },
  {
   "cell_type": "code",
   "execution_count": 4,
   "metadata": {},
   "outputs": [],
   "source": [
    "# transform the pca tranform X_train and X_test in ndarry pca versions\n",
    "X_train_pca = pca.transform(X_train)\n",
    "X_test_pca = pca.transform(X_test)"
   ]
  },
  {
   "cell_type": "code",
   "execution_count": 6,
   "metadata": {},
   "outputs": [
    {
     "name": "stdout",
     "output_type": "stream",
     "text": [
      "0.9912903310411241\n"
     ]
    }
   ],
   "source": [
    "print(np.sum(pca.explained_variance_ratio_))\n",
    "PCA_matrix = pd.DataFrame(np.abs(pca.components_), columns=X_train.columns,\n",
    "                          index=['PC-'+str(i) for i in range(1, len(pca.explained_variance_ratio_) + 1)])\n",
    "\n",
    "# create a pd.DataFrame of of the pca version of X_train and X_test as train_pca and test_pca\n",
    "train_pca = pd.DataFrame(X_train_pca, columns=['PC-'+str(i) for i in range(1, X_train_pca.shape[1]+1)], \n",
    "                        index=[i for i in range(X_train_pca.shape[0])])\n",
    "test_pca = pd.DataFrame(X_test_pca, columns=['PC-'+str(i) for i in range(1, X_test_pca.shape[1]+1)])"
   ]
  },
  {
   "attachments": {},
   "cell_type": "markdown",
   "metadata": {},
   "source": [
    "##### 2.2 Correlation Analyais:"
   ]
  },
  {
   "cell_type": "code",
   "execution_count": 7,
   "metadata": {},
   "outputs": [
    {
     "name": "stdout",
     "output_type": "stream",
     "text": [
      "\n",
      "Runing Pearson correlation for important features with correlations > 0.1 ...\n",
      "\n",
      "3536 features selected for target: Ca\n",
      "885 features selected for target: P\n",
      "1323 features selected for target: pH\n",
      "3563 features selected for target: SOC\n",
      "3535 features selected for target: Sand\n",
      "Performance: 165.29 seconds\n",
      "\n",
      "Runing Pearson correlation for important features above 0.1 threshold...\n",
      "\n",
      "3520 features selected for target: Ca\n",
      "1473 features selected for target: P\n",
      "1528 features selected for target: pH\n",
      "3562 features selected for target: SOC\n",
      "3534 features selected for target: Sand\n",
      "Performance: 145.82 seconds\n"
     ]
    }
   ],
   "source": [
    "#>>> Correlation Analysis <<<\n",
    "# import Feature Transformation class FS from file feature_select.py\n",
    "from feature_select import FS\n",
    "\n",
    "# get filtered pearson and spearman corr feature sets for all response variable with >= 0.1 corr coef\n",
    "pearson, spearman = FS.pearson_corr_filtered(X_train, y_train, 0.1), FS.spearman_corr_filtered(X_train, y_train, 0.1)"
   ]
  },
  {
   "attachments": {},
   "cell_type": "markdown",
   "metadata": {},
   "source": [
    "##### 2.2.1: Plots showing Correlations btw predictors and response variable "
   ]
  },
  {
   "cell_type": "code",
   "execution_count": 9,
   "metadata": {},
   "outputs": [
    {
     "ename": "NameError",
     "evalue": "name 'features' is not defined",
     "output_type": "error",
     "traceback": [
      "\u001b[1;31m---------------------------------------------------------------------------\u001b[0m",
      "\u001b[1;31mNameError\u001b[0m                                 Traceback (most recent call last)",
      "\u001b[1;32mc:\\Github\\COMP_9417_23_Project\\svr_test_script.ipynb Cell 11\u001b[0m in \u001b[0;36m<cell line: 7>\u001b[1;34m()\u001b[0m\n\u001b[0;32m      <a href='vscode-notebook-cell:/c%3A/Github/COMP_9417_23_Project/svr_test_script.ipynb#X15sZmlsZQ%3D%3D?line=6'>7</a>\u001b[0m \u001b[39mfor\u001b[39;00m k \u001b[39min\u001b[39;00m pearson\u001b[39m.\u001b[39mkeys():\n\u001b[0;32m      <a href='vscode-notebook-cell:/c%3A/Github/COMP_9417_23_Project/svr_test_script.ipynb#X15sZmlsZQ%3D%3D?line=7'>8</a>\u001b[0m     ax[\u001b[39m0\u001b[39m]\u001b[39m.\u001b[39mplot(\u001b[39mrange\u001b[39m(\u001b[39mlen\u001b[39m(pearson[k]\u001b[39m.\u001b[39mindex)), pearson[k]\u001b[39m.\u001b[39mvalues)\n\u001b[1;32m----> <a href='vscode-notebook-cell:/c%3A/Github/COMP_9417_23_Project/svr_test_script.ipynb#X15sZmlsZQ%3D%3D?line=8'>9</a>\u001b[0m     ax[\u001b[39m0\u001b[39m]\u001b[39m.\u001b[39mlegend(features)\n\u001b[0;32m     <a href='vscode-notebook-cell:/c%3A/Github/COMP_9417_23_Project/svr_test_script.ipynb#X15sZmlsZQ%3D%3D?line=9'>10</a>\u001b[0m     ax[\u001b[39m0\u001b[39m]\u001b[39m.\u001b[39mset_title(\u001b[39m'\u001b[39m\u001b[39mPearson correlation \u001b[39m\u001b[39m\\n\u001b[39;00m\u001b[39mBetween each response variable and all other possible predictors\u001b[39m\u001b[39m'\u001b[39m)\n\u001b[0;32m     <a href='vscode-notebook-cell:/c%3A/Github/COMP_9417_23_Project/svr_test_script.ipynb#X15sZmlsZQ%3D%3D?line=10'>11</a>\u001b[0m     ax[\u001b[39m0\u001b[39m]\u001b[39m.\u001b[39mset_ylabel(\u001b[39m'\u001b[39m\u001b[39mCorrelation Coefs\u001b[39m\u001b[39m'\u001b[39m)\n",
      "\u001b[1;31mNameError\u001b[0m: name 'features' is not defined"
     ]
    },
    {
     "data": {
      "image/png": "[encoded data removed]",
      "text/plain": [
       "<Figure size 1296x504 with 2 Axes>"
      ]
     },
     "metadata": {
      "needs_background": "light"
     },
     "output_type": "display_data"
    }
   ],
   "source": [
    "labels = list(y_train.columns)\n",
    "\n",
    "# highlight/capture the relationship that exist between response variables\n",
    "fig, ax = plt.subplots(1, 2, figsize=(18, 7))\n",
    "\n",
    "# cor_features = [person, spearman]\n",
    "for k in pearson.keys():\n",
    "    ax[0].plot(range(len(pearson[k].index)), pearson[k].values)\n",
    "    ax[0].legend(pearson.keys())\n",
    "    ax[0].set_title('Pearson correlation \\nBetween each response variable and all other possible predictors')\n",
    "    ax[0].set_ylabel('Correlation Coefs')\n",
    "    ax[0].set_xlabel('\\nTop important features for Coef > 0.1')\n",
    "    \n",
    "for k in spearman.keys():\n",
    "    ax[1].plot(range(len(spearman[k].index)), spearman[k].values)\n",
    "    ax[1].legend(spearman.keys())\n",
    "    ax[1].set_title('Spearman correlation \\nBetween each response variable and all other possible predictors')\n",
    "    ax[1].set_ylabel('Correlation Coefs')\n",
    "    ax[1].set_xlabel('\\nTop important features for Coef > 0.1')\n",
    "\n",
    "plt.savefig('corr.png', dpi=300, bbox_inches='tight')\n",
    "plt.show()"
   ]
  },
  {
   "attachments": {},
   "cell_type": "markdown",
   "metadata": {},
   "source": [
    "### B: Modeling\n",
    "#### 3. Hyperparameter Tuning\n",
    "##### 3.1. GridSearchCV methods + Search parameters and results imported + Tables to show results + validation plots"
   ]
  },
  {
   "cell_type": "code",
   "execution_count": 20,
   "metadata": {},
   "outputs": [],
   "source": [
    "# Grid search completed and the pickle files imported\n",
    "from sklearn import svm\n",
    "from sklearn.ensemble import GradientBoostingRegressor\n",
    "labels = list(y_train.columns)"
   ]
  },
  {
   "attachments": {},
   "cell_type": "markdown",
   "metadata": {},
   "source": [
    "##### 3.2. Models: Best parameters applied to build models + Model fit, Prediction + Train & test errors + Plots\n",
    "\n",
    "**On Original Data**"
   ]
  },
  {
   "attachments": {},
   "cell_type": "markdown",
   "metadata": {},
   "source": [
    "**On PCA Transformed Data**\n"
   ]
  },
  {
   "cell_type": "code",
   "execution_count": 11,
   "metadata": {},
   "outputs": [
    {
     "data": {
      "text/plain": [
       "SVR(C=10000.0, coef0=0.01, gamma='auto', kernel='poly')"
      ]
     },
     "execution_count": 11,
     "metadata": {},
     "output_type": "execute_result"
    }
   ],
   "source": [
    "# Using PCA transformed Data\n",
    "model2 = svm.SVR(C= 10000.0, coef0=0.01, degree=3, gamma=\"auto\", kernel='poly')\n",
    "y_hat2 = np.zeros(y_train.shape)\n",
    "y_pred2 = np.zeros(y_test.shape)\n",
    "\n",
    "y =np.array(y_train)\n",
    "y_=np.array(y_test)\n",
    "\n",
    "model2.fit(X_train_pca, y[:, 0])\n",
    "model2s=[]\n",
    "for i in range(5):\n",
    "    mod = model2\n",
    "    model2s.append(mod.fit(X_train_pca, y[:, i]).predict(X_train_pca))\n",
    "   "
   ]
  },
  {
   "cell_type": "code",
   "execution_count": 15,
   "metadata": {},
   "outputs": [
    {
     "data": {
      "text/plain": [
       "0.4982482917147992"
      ]
     },
     "execution_count": 15,
     "metadata": {},
     "output_type": "execute_result"
    }
   ],
   "source": [
    "er1 = mean_squared_error(y_[:, 0], y_pred2[:, 0], squared=False)\n",
    "er1"
   ]
  },
  {
   "cell_type": "code",
   "execution_count": null,
   "metadata": {},
   "outputs": [],
   "source": [
    "# gbr_grid_search.fit(X_train_select, Y_train)\n",
    "# best_model = gbr_grid_search.best_estimator_\n",
    "# sorted_idx = best_model.feature_importances_.argsort()\n",
    "# plt.barh(best_model.feature_names_in_[sorted_idx], best_model.feature_importances_[sorted_idx])\n",
    "# plt.xlabel(\"Random forest feature importance\")\n",
    "# plt.show()"
   ]
  },
  {
   "cell_type": "code",
   "execution_count": null,
   "metadata": {},
   "outputs": [],
   "source": [
    "# cols= X_train.columns[top_features]\n",
    "# X_train[cols]\n",
    "y_train.boxplot(column=list(y_train.columns), figsize=(18,10))\n",
    "plt.savefig('boxplot.png', dpi=300, bbox_inches='tight')"
   ]
  },
  {
   "cell_type": "code",
   "execution_count": null,
   "metadata": {},
   "outputs": [],
   "source": [
    "import seaborn as sns\n",
    "sns.pairplot(y_train, kind='reg')\n",
    "plt.savefig('pairplot.png', dpi=300, bbox_inches='tight')"
   ]
  },
  {
   "cell_type": "code",
   "execution_count": null,
   "metadata": {},
   "outputs": [],
   "source": [
    "sns.pairplot(X_no_outliers[list(X_no_outliers.columns[3585:3593])], kind='reg')"
   ]
  },
  {
   "cell_type": "code",
   "execution_count": null,
   "metadata": {},
   "outputs": [],
   "source": [
    "xx.boxplot(column=list(xx.columns[3580:3585]), figsize=(18,10))"
   ]
  },
  {
   "cell_type": "code",
   "execution_count": null,
   "metadata": {},
   "outputs": [],
   "source": [
    "\n",
    "# plt.figure(figsize =(15,5))\n",
    "# plt.subplot(1,2,1)\n",
    "# sns.lineplot(x=df['Job Start Date'], y=df['Rate in Rs./Kg.'], color='r')\n",
    "# plt.title(\"Steel Scrap Rate (Rs/Kg)\", fontsize=20)\n",
    "# plt.xlabel('Date')\n",
    "# plt.subplot(1,2,2)\n",
    "# sns.lineplot(x=df['Job Start Date'], y=df['Scrape Sale Qty.'], color='b')\n",
    "# plt.title(\"Steel Scrap Weight (Rs/Kg)\", fontsize=20)\n",
    "# plt.xlabel('Date')"
   ]
  },
  {
   "cell_type": "code",
   "execution_count": 8,
   "metadata": {},
   "outputs": [],
   "source": [
    "file = os.path.join(data_dir, 'sorted_test.csv')\n",
    "test_df=pd.read_csv(file)"
   ]
  },
  {
   "cell_type": "code",
   "execution_count": 21,
   "metadata": {},
   "outputs": [],
   "source": [
    "svr_data_dir = os.path.join(ROOT_DIR, 'svr_searchCV_pkl')\n",
    "\n",
    "ca = joblib.load(os.path.join(svr_data_dir, 'svr_P.pkl'))\n",
    "from sklearn import svm\n",
    "model = svm.SVR(**ca.best_params_)\n",
    "X= np.array(X_train)\n",
    "y = np.array(y_train)\n",
    "model.fit(X, y[:,1])\n",
    "ca_pred = model.predict(X_test)"
   ]
  },
  {
   "cell_type": "code",
   "execution_count": 22,
   "metadata": {},
   "outputs": [],
   "source": [
    "y_ =np.array(y_test)\n"
   ]
  },
  {
   "cell_type": "code",
   "execution_count": 23,
   "metadata": {},
   "outputs": [
    {
     "data": {
      "text/plain": [
       "0.17373615636026027"
      ]
     },
     "execution_count": 23,
     "metadata": {},
     "output_type": "execute_result"
    }
   ],
   "source": [
    "error= mean_squared_error(y_[:,1], ca_pred, squared=False)\n",
    "error"
   ]
  }
 ],
 "metadata": {
  "kernelspec": {
   "display_name": "Python 3",
   "language": "python",
   "name": "python3"
  },
  "language_info": {
   "codemirror_mode": {
    "name": "ipython",
    "version": 3
   },
   "file_extension": ".py",
   "mimetype": "text/x-python",
   "name": "python",
   "nbconvert_exporter": "python",
   "pygments_lexer": "ipython3",
   "version": "3.9.13"
  },
  "orig_nbformat": 4,
  "vscode": {
   "interpreter": {
    "hash": "0c880bf50398c9e6ebbd48c247ea31cff5c6f8ce48b9cfb1b78e929d6cc40437"
   }
  }
 },
 "nbformat": 4,
 "nbformat_minor": 2
}
