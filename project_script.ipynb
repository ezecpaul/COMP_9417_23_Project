{
 "cells": [
  {
   "cell_type": "code",
   "execution_count": 3,
   "metadata": {},
   "outputs": [
    {
     "name": "stdout",
     "output_type": "stream",
     "text": [
      "[LibSVM][LibSVM][LibSVM][LibSVM][LibSVM]"
     ]
    },
    {
     "ename": "NameError",
     "evalue": "name 'Utilities' is not defined",
     "output_type": "error",
     "traceback": [
      "\u001b[1;31m---------------------------------------------------------------------------\u001b[0m",
      "\u001b[1;31mNameError\u001b[0m                                 Traceback (most recent call last)",
      "\u001b[1;32mc:\\comp9417_23\\project_script.ipynb Cell 1\u001b[0m in \u001b[0;36m<cell line: 58>\u001b[1;34m()\u001b[0m\n\u001b[0;32m     <a href='vscode-notebook-cell:/c%3A/comp9417_23/project_script.ipynb#W0sZmlsZQ%3D%3D?line=54'>55</a>\u001b[0m     SV\u001b[39m.\u001b[39mfit(X_train, y_train[:,i])\n\u001b[0;32m     <a href='vscode-notebook-cell:/c%3A/comp9417_23/project_script.ipynb#W0sZmlsZQ%3D%3D?line=55'>56</a>\u001b[0m     y_preds[:,i] \u001b[39m=\u001b[39m SV\u001b[39m.\u001b[39mpredict(X_test)\u001b[39m.\u001b[39mastype(\u001b[39mfloat\u001b[39m)\n\u001b[1;32m---> <a href='vscode-notebook-cell:/c%3A/comp9417_23/project_script.ipynb#W0sZmlsZQ%3D%3D?line=57'>58</a>\u001b[0m losses, ave_loss \u001b[39m=\u001b[39m Utilities\u001b[39m.\u001b[39maverage_RMSE(y_test, y_preds)\n\u001b[0;32m     <a href='vscode-notebook-cell:/c%3A/comp9417_23/project_script.ipynb#W0sZmlsZQ%3D%3D?line=58'>59</a>\u001b[0m \u001b[39mprint\u001b[39m(\u001b[39mf\u001b[39m\u001b[39m'\u001b[39m\u001b[39m\\n\u001b[39;00m\u001b[39m Average RMSE Loss(SVR): \u001b[39m\u001b[39m{\u001b[39;00mloss\u001b[39m}\u001b[39;00m\u001b[39m'\u001b[39m)\n\u001b[0;32m     <a href='vscode-notebook-cell:/c%3A/comp9417_23/project_script.ipynb#W0sZmlsZQ%3D%3D?line=60'>61</a>\u001b[0m \u001b[39m# Compare results with Scaled features\u001b[39;00m\n",
      "\u001b[1;31mNameError\u001b[0m: name 'Utilities' is not defined"
     ]
    }
   ],
   "source": [
    "# from project_utilities import Utilities as Ut\n",
    "import numpy as np\n",
    "import pandas as pd\n",
    "from sklearn import svm\n",
    "from sklearn.model_selection import train_test_split\n",
    "from sklearn.metrics import mean_squared_error\n",
    "from sklearn.preprocessing import StandardScaler\n",
    "\n",
    "# class Utilities:\n",
    "#     '''\n",
    "#     Define series of help functions\n",
    "\n",
    "#     ''' \n",
    "#     @staticmethod\n",
    "#     def average_RMSE(y, y_hat): # Define column-wise average RMSE\n",
    "#         column_len = y.shape[1] \n",
    "#         errors = np.zeros(column_len)\n",
    "#         for i in range(column_len):\n",
    "#             errors[i] = mean_squared_error(y[:,i], y_hat[:,i], squared=False)\n",
    "#         return errors, np.average(errors)\n",
    "    \n",
    "#     @staticmethod\n",
    "#     def normalizer(Xtrain, Xtest, col):\n",
    "#         scaler = StandardScaler()\n",
    "#         scaler.fit(Xtrain)\n",
    "#         scaled_Xtrain = pd.DataFrame(data=scaler.transform(Xtrain), columns=col)\n",
    "#         scaled_Xtest= pd.DataFrame(data=scaler.transform(Xtest), columns=col)\n",
    "#         return scaled_Xtrain, scaled_Xtest\n",
    "\n",
    "\n",
    "# # Read test dataset\n",
    "# test = pd.read_csv('sorted_test.csv')\n",
    "# test.drop('PIDN', axis=1, inplace=True)\n",
    "# xtest = np.array(test)[:,:3578]\n",
    "\n",
    "\n",
    "# Read train dataset\n",
    "train = pd.read_csv('training.csv')\n",
    "# train.describe()\n",
    "# train.isnull().values.any() # checked if any cell contains null value\n",
    "labels = train[['Ca','P','pH','SOC','Sand']].values # y/labels\n",
    "\n",
    "train.drop(['Ca', 'P', 'pH', 'SOC', 'Sand', 'PIDN'], axis=1, inplace=True)\n",
    "Xtrain = np.array(train)[:,:3578]\n",
    "\n",
    "X_train, X_test, y_train, y_test = train_test_split(Xtrain, labels, test_size=0.3, random_state=42)\n",
    "# X_val, X_test, y_val, y_test = train_test_split(X_test, y_test, test_size=0.5, random_state=42)\n",
    "\n",
    "y_preds = np.zeros((X_test.shape[0], 5)) # initialise predicted values(y_hats)\n",
    "\n",
    "# Define SVR baseline\n",
    "SV = svm.SVR(C=10000.0, verbose = 2)\n",
    "\n",
    "for i in range(5):\n",
    "    SV.fit(X_train, y_train[:,i])\n",
    "    y_preds[:,i] = SV.predict(X_test).astype(float)\n",
    "\n",
    "losses, ave_loss = Utilities.average_RMSE(y_test, y_preds)\n",
    "print(f'\\n Average RMSE Loss(SVR): {loss}')\n",
    "\n",
    "# Compare results with Scaled features\n",
    "col = train.columns[:3578]\n",
    "X_train_scaled, X_test_scaled = Utilities.normalizer(X_train, X_test, col)\n",
    "for i in range(5):\n",
    "    SV.fit(X_train_scaled, y_train[:,i])\n",
    "    y_preds[:,i] = SV.predict(X_test_scaled).astype(float)\n",
    "\n",
    "losses, ave_loss = Utilities.average_RMSE(y_test, y_preds)\n",
    "print(f'\\n Average RMSE Loss(SVR): {loss}')\n",
    "\n",
    "# # Printing 'sample_submission.csv'\n",
    "# sample = pd.read_csv('sample_submission.csv')\n",
    "# sample['Ca'] = y_preds[:,0]\n",
    "# sample['P'] = y_preds[:,1]\n",
    "# sample['pH'] = y_preds[:,2]\n",
    "# sample['SOC'] = y_preds[:,3]\n",
    "# sample['Sand'] = y_preds[:,4]\n",
    "# sample.to_csv('predictions.csv', index = False)\n",
    "\n"
   ]
  },
  {
   "cell_type": "code",
   "execution_count": 9,
   "metadata": {},
   "outputs": [
    {
     "name": "stdout",
     "output_type": "stream",
     "text": [
      "0.6114152797905561\n"
     ]
    }
   ],
   "source": [
    "# Define baseline gboost regressor\n",
    "from sklearn.ensemble import GradientBoostingRegressor\n",
    "GBR = GradientBoostingRegressor(n_estimators=100, random_state=42)\n",
    "\n",
    "for i in range(5):\n",
    "    GBR.fit(X_train, y_train[:,i])\n",
    "    preds[:,i] = GBR.predict(X_test).astype(float)\n",
    "\n",
    "loss = mean_squared_error(y_test, preds, squared=False)\n",
    "print(f'\\n Average RMSE Loss(GradientBoost): {loss}')"
   ]
  },
  {
   "cell_type": "code",
   "execution_count": 9,
   "metadata": {},
   "outputs": [
    {
     "data": {
      "text/plain": [
       "2.302585092994046"
      ]
     },
     "execution_count": 9,
     "metadata": {},
     "output_type": "execute_result"
    }
   ],
   "source": [
    "np.log(10)\n"
   ]
  }
 ],
 "metadata": {
  "kernelspec": {
   "display_name": "comp9517",
   "language": "python",
   "name": "python3"
  },
  "language_info": {
   "codemirror_mode": {
    "name": "ipython",
    "version": 3
   },
   "file_extension": ".py",
   "mimetype": "text/x-python",
   "name": "python",
   "nbconvert_exporter": "python",
   "pygments_lexer": "ipython3",
   "version": "3.9.13"
  },
  "orig_nbformat": 4
 },
 "nbformat": 4,
 "nbformat_minor": 2
}
